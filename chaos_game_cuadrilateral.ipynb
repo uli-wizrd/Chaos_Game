{
 "cells": [
  {
   "cell_type": "code",
   "execution_count": null,
   "metadata": {},
   "outputs": [],
   "source": [
    "__Description__= \"The following notebook presents the chaos game\"\n",
    "__author__ = \"Rangel Rivera Ulises Osmar\"\n",
    "__copyright__ = \"\"\n",
    "__credits__ = [\"Rangel Ulises and numberphile\"]\n",
    "__license__ = \"\"\n",
    "__version__ = \"1.0\"\n",
    "__maintainer__ = \"Rangel Rivera Ulises Osmar\"\n",
    "__email__ = \"uli.osmr@gmail.com\"\n",
    "__status__ = \"Finished\""
   ]
  },
  {
   "attachments": {},
   "cell_type": "markdown",
   "metadata": {},
   "source": [
    "# The chaos game\n",
    "\n",
    "The chaos game is a simple dynamic  where:\n",
    "\n",
    "1. You choose 3 points in a 2D space in such a way that they form a triangle it doesn't matter what kind they just have to form one, once we have our vertices A, B and C we can join them to form the boundary of our game board. \n",
    "\n",
    "2. Once we have our triangle we can choose at random a point contained within it or outside it as our starting value.\n",
    "\n",
    "3. Now we assign each vertex of our triangle a pair of values from a 6 sided dice where each side has a dot in it (e.g A has the sides with 1 and 2 dots, B 3 dots and 4 dots and C 5 dots and 6 dots) once we do this we can roll our dice.\n",
    "\n",
    "4. Depending of the face up value of our dice we will choose a point half way between our starting point and the vertex assigned to that value on our dice, now our starting point will be this new location\n",
    "\n",
    "5. We run this new position iterative selection algorithm until we can see a pattern arise.\n",
    "\n",
    "\n"
   ]
  },
  {
   "cell_type": "markdown",
   "metadata": {},
   "source": [
    "# The cuadrilateral version\n",
    "\n",
    "In this notebook we take the chaos game to a different type of board, now we will use the same rules but with 4 points of reference to calculate our next point."
   ]
  },
  {
   "cell_type": "code",
   "execution_count": 10,
   "metadata": {},
   "outputs": [],
   "source": [
    "# first some libraries as always\n",
    "\n",
    "import matplotlib.pyplot as plt\n",
    "import numpy as np"
   ]
  },
  {
   "cell_type": "code",
   "execution_count": 11,
   "metadata": {},
   "outputs": [],
   "source": [
    "# distance value\n",
    "\n",
    "d = 0.18\n",
    "\n",
    "#d=0.75\n",
    "\n",
    "#d=0.25"
   ]
  },
  {
   "cell_type": "code",
   "execution_count": 12,
   "metadata": {},
   "outputs": [],
   "source": [
    "# initial point\n",
    "i_px = 75\n",
    "i_py = 75"
   ]
  },
  {
   "cell_type": "code",
   "execution_count": 13,
   "metadata": {},
   "outputs": [],
   "source": [
    "# cuadrilateral\n",
    "\n",
    "cuad = [[0,150,150,0,0],[0,0,100,100,0]]"
   ]
  },
  {
   "cell_type": "code",
   "execution_count": 14,
   "metadata": {},
   "outputs": [],
   "source": [
    "# we define where we will store stuff\n",
    "\n",
    "p_x = []\n",
    "p_y = []"
   ]
  },
  {
   "cell_type": "code",
   "execution_count": 15,
   "metadata": {},
   "outputs": [],
   "source": [
    "# we store our initial values\n",
    "p_x.append(i_px)\n",
    "p_y.append(i_py)"
   ]
  },
  {
   "cell_type": "code",
   "execution_count": 7,
   "metadata": {},
   "outputs": [],
   "source": [
    "# square loop with restrictions\n",
    "\n",
    "np.random.seed(41)\n",
    "\n",
    "pre_roll = np.random.randint(1,5,dtype=int)\n",
    "\n",
    "for i in range(8000):\n",
    "    \n",
    "    dice_r = np.random.randint(1,5,dtype=int)\n",
    "    ctrl = 0\n",
    "\n",
    "    if dice_r == pre_roll:\n",
    "\n",
    "        while dice_r == pre_roll:\n",
    "\n",
    "            ctrl += 1\n",
    "            dice_r = np.random.randint(1,5,dtype=int)\n",
    "\n",
    "            if dice_r != pre_roll:\n",
    "                break\n",
    "            elif ctrl > 10:\n",
    "                break\n",
    "            else:\n",
    "                pass\n",
    "    else:\n",
    "        pass\n",
    "\n",
    "    pre_roll = dice_r\n",
    "\n",
    "    if dice_r == 1:\n",
    "            \n",
    "            s_x = round(cuad[0][0] + i_px, 4)\n",
    "            s_y = round(cuad[1][0] + i_py, 4)\n",
    "\n",
    "            c_x = round((s_x*d), 4)\n",
    "            c_y = round((s_y*d), 4)\n",
    "\n",
    "            p_x.append(c_x)\n",
    "            p_y.append(c_y)\n",
    "\n",
    "            i_px = c_x\n",
    "            i_py = c_y\n",
    "\n",
    "    elif dice_r == 2:\n",
    "\n",
    "            s_x = round(cuad[0][1] + i_px, 4)\n",
    "            s_y = round(cuad[1][1] + i_py, 4)\n",
    "\n",
    "            c_x = round((s_x*d), 4)\n",
    "            c_y = round((s_y*d), 4)\n",
    "\n",
    "            p_x.append(c_x)\n",
    "            p_y.append(c_y)\n",
    "\n",
    "            i_px = c_x\n",
    "            i_py = c_y\n",
    "\n",
    "    elif dice_r == 3:\n",
    "\n",
    "            s_x = round(i_px + cuad[0][2], 4)\n",
    "            s_y = round(i_py + cuad[1][2], 4)\n",
    "\n",
    "            c_x = round((s_x*d), 4)\n",
    "            c_y = round((s_y*d), 4)\n",
    "\n",
    "            p_x.append(c_x)\n",
    "            p_y.append(c_y)\n",
    "\n",
    "            i_px = c_x\n",
    "            i_py = c_y\n",
    "\n",
    "    elif dice_r == 4:\n",
    "\n",
    "            s_x = round(i_px + cuad[0][3], 4)\n",
    "            s_y = round(i_py + cuad[1][3], 4)\n",
    "\n",
    "            c_x = round((s_x*d), 4)\n",
    "            c_y = round((s_y*d), 4)\n",
    "\n",
    "            p_x.append(c_x)\n",
    "            p_y.append(c_y)\n",
    "\n",
    "            i_px = c_x\n",
    "            i_py = c_y"
   ]
  },
  {
   "cell_type": "code",
   "execution_count": 16,
   "metadata": {},
   "outputs": [],
   "source": [
    "# square loop\n",
    "\n",
    "np.random.seed(41)\n",
    "\n",
    "for i in range(8000):\n",
    "    \n",
    "    dice_r = np.random.randint(1,5,dtype=int)\n",
    "\n",
    "    if dice_r == 1:\n",
    "            \n",
    "            s_x = round(cuad[0][0] + i_px, 4)\n",
    "            s_y = round(cuad[1][0] + i_py, 4)\n",
    "\n",
    "            c_x = round((s_x*d), 4)\n",
    "            c_y = round((s_y*d), 4)\n",
    "\n",
    "            p_x.append(c_x)\n",
    "            p_y.append(c_y)\n",
    "\n",
    "            i_px = c_x\n",
    "            i_py = c_y\n",
    "\n",
    "    elif dice_r == 2:\n",
    "\n",
    "            s_x = round(cuad[0][1] + i_px, 4)\n",
    "            s_y = round(cuad[1][1] + i_py, 4)\n",
    "\n",
    "            c_x = round((s_x*d), 4)\n",
    "            c_y = round((s_y*d), 4)\n",
    "\n",
    "            p_x.append(c_x)\n",
    "            p_y.append(c_y)\n",
    "\n",
    "            i_px = c_x\n",
    "            i_py = c_y\n",
    "\n",
    "    elif dice_r == 3:\n",
    "\n",
    "            s_x = round(i_px + cuad[0][2], 4)\n",
    "            s_y = round(i_py + cuad[1][2], 4)\n",
    "\n",
    "            c_x = round((s_x*d), 4)\n",
    "            c_y = round((s_y*d), 4)\n",
    "\n",
    "            p_x.append(c_x)\n",
    "            p_y.append(c_y)\n",
    "\n",
    "            i_px = c_x\n",
    "            i_py = c_y\n",
    "\n",
    "    elif dice_r == 4:\n",
    "\n",
    "            s_x = round(i_px + cuad[0][3], 4)\n",
    "            s_y = round(i_py + cuad[1][3], 4)\n",
    "\n",
    "            c_x = round((s_x*d), 4)\n",
    "            c_y = round((s_y*d), 4)\n",
    "\n",
    "            p_x.append(c_x)\n",
    "            p_y.append(c_y)\n",
    "\n",
    "            i_px = c_x\n",
    "            i_py = c_y"
   ]
  },
  {
   "cell_type": "code",
   "execution_count": 17,
   "metadata": {},
   "outputs": [],
   "source": [
    "# transforming results to plot them\n",
    "p_x = np.array(p_x).reshape(-1,1)\n",
    "p_y = np.array(p_y).reshape(-1,1)\n",
    "dots = np.hstack((p_x,p_y))"
   ]
  },
  {
   "cell_type": "code",
   "execution_count": 18,
   "metadata": {},
   "outputs": [
    {
     "data": {
      "image/png": "[encoded data removed]",
      "text/plain": [
       "<Figure size 700x700 with 1 Axes>"
      ]
     },
     "metadata": {},
     "output_type": "display_data"
    }
   ],
   "source": [
    "# cuadrilateral graph\n",
    "\n",
    "fig, ax = plt.subplots(facecolor = 'black' , figsize=(7,7))\n",
    "ax.set_title(\"Chaos Game cuadrilateral\",color = 'w' )\n",
    "#plt.plot(tri[0],tri[1], 'o-k')\n",
    "plt.scatter(dots[:,0],dots[:,1],s=1, c = dots[:,1], cmap = plt.get_cmap(\"plasma\"),\n",
    "            alpha = 0.9)\n",
    "plt.axis('off')\n",
    "plt.show()\n",
    "#plt.close()"
   ]
  }
 ],
 "metadata": {
  "kernelspec": {
   "display_name": "Python 3",
   "language": "python",
   "name": "python3"
  },
  "language_info": {
   "codemirror_mode": {
    "name": "ipython",
    "version": 3
   },
   "file_extension": ".py",
   "mimetype": "text/x-python",
   "name": "python",
   "nbconvert_exporter": "python",
   "pygments_lexer": "ipython3",
   "version": "3.11.1"
  },
  "orig_nbformat": 4
 },
 "nbformat": 4,
 "nbformat_minor": 2
}
